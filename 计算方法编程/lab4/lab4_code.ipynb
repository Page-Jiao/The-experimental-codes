{
 "cells": [
  {
   "cell_type": "code",
   "execution_count": 1,
   "metadata": {},
   "outputs": [],
   "source": [
    "import numpy as np\n",
    "from sympy import *\n",
    "E = 0.00001"
   ]
  },
  {
   "cell_type": "code",
   "execution_count": 2,
   "metadata": {},
   "outputs": [],
   "source": [
    "def Jacobi(A, B, X):\n",
    "    n = 0\n",
    "    while(True):\n",
    "        for i in range(len(A)):\n",
    "            temp = B[i]\n",
    "            for j in range(len(A[i])):\n",
    "                if j != i:  \n",
    "                    temp -= A[i][j]*X[j][0]\n",
    "            X[i][1] = temp/A[i][i]\n",
    "        n += 1\n",
    "        if max((np.fabs(X[i][1]-X[i][0]) for i in range(len(A)))) <= E:\n",
    "            print(\"Jacobi迭代\")\n",
    "            print(\"迭代步数:\", n)\n",
    "            print([X[i][1] for i in range(len(A))])\n",
    "            break\n",
    "        for i in range(len(A)):\n",
    "            X[i][0] = X[i][1]"
   ]
  },
  {
   "cell_type": "code",
   "execution_count": 3,
   "metadata": {},
   "outputs": [],
   "source": [
    "def Gauss_Seidel(A, B, X):\n",
    "    n = 0\n",
    "    while(True):\n",
    "        for i in range(len(A)):\n",
    "            temp = B[i]\n",
    "            for j in range(len(A[i])):\n",
    "                if j != i:\n",
    "                    temp -= A[i][j]*X[j][1]\n",
    "            X[i][1] = temp/A[i][i]\n",
    "        n += 1\n",
    "        if max((np.fabs(X[i][1]-X[i][0]) for i in range(len(A)))) <= E:\n",
    "            print(\"Gauss-Seidel迭代\")\n",
    "            print(\"迭代步数:\", n)\n",
    "            print([X[i][1] for i in range(len(A))])\n",
    "            break\n",
    "        for i in range(len(A)):\n",
    "            X[i][0] = X[i][1]"
   ]
  },
  {
   "cell_type": "code",
   "execution_count": 4,
   "metadata": {},
   "outputs": [
    {
     "name": "stdout",
     "output_type": "stream",
     "text": [
      "Jacobi迭代\n",
      "迭代步数: 285\n",
      "[9.999932986346156, 17.99987140174, 23.99982023540007, 27.99978363251892, 29.999764558444305, 29.999764558444305, 27.99978363251892, 23.99982023540007, 17.99987140174, 9.999932986346156]\n",
      "*******************************************\n",
      "Gauss-Seidel迭代\n",
      "迭代步数: 152\n",
      "[9.999962267140672, 17.99993052423946, 23.99990681539073, 27.999892384753743, 29.999887641293157, 29.99989219261026, 27.999904939695735, 23.99992422024755, 17.999947985323615, 9.999973992661808]\n"
     ]
    }
   ],
   "source": [
    "A = np.array([[2, -1, 0, 0, 0, 0, 0, 0, 0, 0],\n",
    "              [-1, 2, -1, 0, 0, 0, 0, 0, 0, 0],\n",
    "              [0, -1, 2, -1, 0, 0, 0, 0, 0, 0],\n",
    "              [0, 0, -1, 2, -1, 0, 0, 0, 0, 0],\n",
    "              [0, 0, 0, -1, 2, -1, 0, 0, 0, 0],\n",
    "              [0, 0, 0, 0, -1, 2, -1, 0, 0, 0],\n",
    "              [0, 0, 0, 0, 0, -1, 2, -1, 0, 0],\n",
    "              [0, 0, 0, 0, 0, 0, -1, 2, -1, 0],\n",
    "              [0, 0, 0, 0, 0, 0, 0, -1, 2, -1],\n",
    "              [0, 0, 0, 0, 0, 0, 0, 0, -1, 2]])\n",
    "B = np.array([2, 2, 2, 2, 2, 2, 2, 2, 2, 2])\n",
    "X = [[0, 0] for p in range(len(B))]\n",
    "Jacobi(A, B, X)\n",
    "print(\"*******************************************\")\n",
    "X = [[0, 0] for p in range(len(B))]\n",
    "Gauss_Seidel(A,B,X)"
   ]
  },
  {
   "cell_type": "code",
   "execution_count": 5,
   "metadata": {},
   "outputs": [
    {
     "data": {
      "text/plain": [
       "{x_0_0: 10,\n",
       " x_1_0: 18,\n",
       " x_2_0: 24,\n",
       " x_3_0: 28,\n",
       " x_4_0: 30,\n",
       " x_5_0: 30,\n",
       " x_6_0: 28,\n",
       " x_7_0: 24,\n",
       " x_8_0: 18,\n",
       " x_9_0: 10}"
      ]
     },
     "execution_count": 5,
     "metadata": {},
     "output_type": "execute_result"
    }
   ],
   "source": [
    "a = Matrix([[2, -1, 0, 0, 0, 0, 0, 0, 0, 0],\n",
    "              [-1, 2, -1, 0, 0, 0, 0, 0, 0, 0],\n",
    "              [0, -1, 2, -1, 0, 0, 0, 0, 0, 0],\n",
    "              [0, 0, -1, 2, -1, 0, 0, 0, 0, 0],\n",
    "              [0, 0, 0, -1, 2, -1, 0, 0, 0, 0],\n",
    "              [0, 0, 0, 0, -1, 2, -1, 0, 0, 0],\n",
    "              [0, 0, 0, 0, 0, -1, 2, -1, 0, 0],\n",
    "              [0, 0, 0, 0, 0, 0, -1, 2, -1, 0],\n",
    "              [0, 0, 0, 0, 0, 0, 0, -1, 2, -1],\n",
    "              [0, 0, 0, 0, 0, 0, 0, 0, -1, 2]])\n",
    "b = Matrix([[2],[2],[2],[2],[2],[2],[2],[2],[2],[2]])\n",
    "x = symarray('x', (10,1))\n",
    "solve(a*x-b)"
   ]
  },
  {
   "cell_type": "code",
   "execution_count": null,
   "metadata": {},
   "outputs": [],
   "source": []
  }
 ],
 "metadata": {
  "kernelspec": {
   "display_name": "Python 3",
   "language": "python",
   "name": "python3"
  },
  "language_info": {
   "codemirror_mode": {
    "name": "ipython",
    "version": 3
   },
   "file_extension": ".py",
   "mimetype": "text/x-python",
   "name": "python",
   "nbconvert_exporter": "python",
   "pygments_lexer": "ipython3",
   "version": "3.7.6"
  }
 },
 "nbformat": 4,
 "nbformat_minor": 4
}
