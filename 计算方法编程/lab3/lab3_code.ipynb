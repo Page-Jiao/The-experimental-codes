{
 "cells": [
  {
   "cell_type": "code",
   "execution_count": 1,
   "metadata": {},
   "outputs": [],
   "source": [
    "import math\n",
    "from sympy import *\n",
    "import matplotlib.pyplot as plt\n",
    "import numpy as np\n",
    "%matplotlib inline"
   ]
  },
  {
   "cell_type": "code",
   "execution_count": 2,
   "metadata": {},
   "outputs": [],
   "source": [
    "def newton(func_x,x0,error):\n",
    "    func_diff=diff(func_x,x)\n",
    "    next_x=x0\n",
    "    i=0\n",
    "    print(\"---------k=0----------\")\n",
    "    print(\"x_k\",x0,\"f(x_k)\",func_x.evalf(subs ={'x':next_x}),sep=' ')\n",
    "    while(abs(func_x.evalf(subs ={'x':next_x}))>error):\n",
    "        i=i+1\n",
    "        next_x=next_x-func_x.evalf(subs ={'x':next_x})/func_diff.evalf(subs ={'x':next_x})\n",
    "        print(\"---------k={}----------\".format(i))\n",
    "        print(\"x_k:\",next_x,\"f(x_k)\",func_x.evalf(subs ={'x':next_x}),sep=' ')\n",
    "    return next_x"
   ]
  },
  {
   "cell_type": "code",
   "execution_count": 3,
   "metadata": {},
   "outputs": [],
   "source": [
    "def String_section_method(func_x,x0,x1,error):\n",
    "    xk=x0\n",
    "    xk1=x1\n",
    "    i=0\n",
    "    print(\"---------k=0----------\")\n",
    "    print(\"x_k:\",x0,\"f(x_k)\",func_x.evalf(subs ={'x':x0}),sep=' ')\n",
    "    print(\"---------k=1----------\")\n",
    "    print(\"x_k:\",x1,\"f(x_k)\",func_x.evalf(subs ={'x':x1}),sep=' ')\n",
    "    while(abs(func_x.evalf(subs ={'x':xk1}))>error):\n",
    "        i+=1\n",
    "        new_x=xk1-func_x.evalf(subs ={'x':xk1})*(xk1-xk)/(func_x.evalf(subs ={'x':xk1})-func_x.evalf(subs ={'x':xk}))\n",
    "        xk=xk1\n",
    "        xk1=new_x\n",
    "        print(\"---------k={}----------\".format(i))\n",
    "        print(\"x_k:\",xk1,\"f(x_k)\",func_x.evalf(subs ={'x':xk1}),sep=' ')\n",
    "    return xk1"
   ]
  },
  {
   "cell_type": "code",
   "execution_count": 4,
   "metadata": {},
   "outputs": [
    {
     "name": "stdout",
     "output_type": "stream",
     "text": [
      "8*x**3 + 72*x**2 + 122*x - 16\n"
     ]
    }
   ],
   "source": [
    "x=symbols('x')\n",
    "y=2*pow(x,4)+24*pow(x,3)+61*x**2-16*x+1\n",
    "print(diff(y,x))"
   ]
  },
  {
   "cell_type": "code",
   "execution_count": 5,
   "metadata": {},
   "outputs": [
    {
     "name": "stdout",
     "output_type": "stream",
     "text": [
      "---------k=0----------\n",
      "x_k 0 f(x_k) 1.00000000000000\n",
      "---------k=1----------\n",
      "x_k: 0.0625000000000000 f(x_k) 0.244171142578125\n",
      "---------k=2----------\n",
      "x_k: 0.0926751448225923 f(x_k) 0.0603578217099111\n",
      "---------k=3----------\n",
      "x_k: 0.107509160229866 f(x_k) 0.0149947601516366\n",
      "---------k=4----------\n",
      "x_k: 0.114853233763046 f(x_k) 0.00372488987478090\n",
      "---------k=5----------\n",
      "x_k: 0.118483681521745 f(x_k) 0.000916260643363105\n",
      "---------k=6----------\n",
      "x_k: 0.120242606774498 f(x_k) 0.000215772688018643\n",
      "---------k=7----------\n",
      "x_k: 0.121025817898753 f(x_k) 4.28476818522506e-5\n",
      "---------k=8----------\n",
      "x_k: 0.121283832705868 f(x_k) 4.65309593603593e-6\n",
      "---------k=9----------\n",
      "x_k: 0.121319626673357 f(x_k) 8.95690627919956e-8\n",
      "---------k=10----------\n",
      "x_k: 0.121320343272189 f(x_k) 3.59006050408256e-11\n"
     ]
    },
    {
     "data": {
      "text/latex": [
       "$\\displaystyle 0.121320343272189$"
      ],
      "text/plain": [
       "0.121320343272189"
      ]
     },
     "execution_count": 5,
     "metadata": {},
     "output_type": "execute_result"
    }
   ],
   "source": [
    "newton(y,0,1.0e-9)"
   ]
  },
  {
   "cell_type": "code",
   "execution_count": 6,
   "metadata": {},
   "outputs": [
    {
     "name": "stdout",
     "output_type": "stream",
     "text": [
      "---------k=0----------\n",
      "x_k 3 f(x_k) 1312.00000000000\n",
      "---------k=1----------\n",
      "x_k: 1.91927512355848 f(x_k) 391.807290765145\n",
      "---------k=2----------\n",
      "x_k: 1.19361332277328 f(x_k) 113.682625657871\n",
      "---------k=3----------\n",
      "x_k: 0.731121454583345 f(x_k) 31.8598761821473\n",
      "---------k=4----------\n",
      "x_k: 0.453620806086133 f(x_k) 8.61905044161285\n",
      "---------k=5----------\n",
      "x_k: 0.296636931415324 f(x_k) 2.26334711606154\n",
      "---------k=6----------\n",
      "x_k: 0.211975351119953 f(x_k) 0.581974266533479\n",
      "---------k=7----------\n",
      "x_k: 0.167794035309137 f(x_k) 0.147707094601209\n",
      "---------k=8----------\n",
      "x_k: 0.145194388790635 f(x_k) 0.0372063342275401\n",
      "---------k=9----------\n",
      "x_k: 0.133767607310272 f(x_k) 0.00932536798595917\n",
      "---------k=10----------\n",
      "x_k: 0.128036497039886 f(x_k) 0.00232226382071177\n",
      "---------k=11----------\n",
      "x_k: 0.125196033266053 f(x_k) 0.000567554171232354\n",
      "---------k=12----------\n",
      "x_k: 0.123838722420784 f(x_k) 0.000129270496952984\n",
      "---------k=13----------\n",
      "x_k: 0.123271028946865 f(x_k) 2.25871027440014e-5\n",
      "---------k=14----------\n",
      "x_k: 0.123118562606628 f(x_k) 1.62847547113787e-6\n",
      "---------k=15----------\n",
      "x_k: 0.123105718084746 f(x_k) 1.15563298949680e-8\n",
      "---------k=16----------\n",
      "x_k: 0.123105625622452 f(x_k) 5.98837436817152e-13\n"
     ]
    },
    {
     "data": {
      "text/latex": [
       "$\\displaystyle 0.123105625622452$"
      ],
      "text/plain": [
       "0.123105625622452"
      ]
     },
     "execution_count": 6,
     "metadata": {},
     "output_type": "execute_result"
    }
   ],
   "source": [
    "newton(y,3,1.0e-9)"
   ]
  },
  {
   "cell_type": "code",
   "execution_count": 7,
   "metadata": {},
   "outputs": [
    {
     "name": "stdout",
     "output_type": "stream",
     "text": [
      "---------k=0----------\n",
      "x_k: 0 f(x_k) 1.00000000000000\n",
      "---------k=1----------\n",
      "x_k: 0.5 f(x_k) 11.3750000000000\n",
      "---------k=1----------\n",
      "x_k: -0.0481927710843374 f(x_k) 1.91008394502621\n",
      "---------k=2----------\n",
      "x_k: -0.158821772413660 f(x_k) 4.98495832982336\n",
      "---------k=3----------\n",
      "x_k: 0.0205289563261179 f(x_k) 0.697452415319068\n",
      "---------k=4----------\n",
      "x_k: 0.0497040995079915 f(x_k) 0.358394015065135\n",
      "---------k=5----------\n",
      "x_k: 0.0805430248884595 f(x_k) 0.119653607310420\n",
      "---------k=6----------\n",
      "x_k: 0.0959990957817496 f(x_k) 0.0475828042596896\n",
      "---------k=7----------\n",
      "x_k: 0.106203549802078 f(x_k) 0.0177778476021120\n",
      "---------k=8----------\n",
      "x_k: 0.112290229629208 f(x_k) 0.00681021835821673\n",
      "---------k=9----------\n",
      "x_k: 0.116069680755565 f(x_k) 0.00257957842147367\n",
      "---------k=10----------\n",
      "x_k: 0.118374152588748 f(x_k) 0.000974152656910191\n",
      "---------k=11----------\n",
      "x_k: 0.119772477823475 f(x_k) 0.000360723560109005\n",
      "---------k=12----------\n",
      "x_k: 0.120594755181187 f(x_k) 0.000127417414359160\n",
      "---------k=13----------\n",
      "x_k: 0.121043832313163 f(x_k) 3.98787671678793e-5\n",
      "---------k=14----------\n",
      "x_k: 0.121248412152595 f(x_k) 9.34535702751283e-6\n",
      "---------k=15----------\n",
      "x_k: 0.121311027878494 f(x_k) 1.16951812859142e-6\n",
      "---------k=16----------\n",
      "x_k: 0.121319984785238 f(x_k) 4.48169374316117e-8\n",
      "---------k=17----------\n",
      "x_k: 0.121320341698819 f(x_k) 2.32401655589725e-10\n"
     ]
    },
    {
     "data": {
      "text/latex": [
       "$\\displaystyle 0.121320341698819$"
      ],
      "text/plain": [
       "0.121320341698819"
      ]
     },
     "execution_count": 7,
     "metadata": {},
     "output_type": "execute_result"
    }
   ],
   "source": [
    "String_section_method(y,0,0.5,1.0e-9)"
   ]
  },
  {
   "cell_type": "code",
   "execution_count": 8,
   "metadata": {},
   "outputs": [
    {
     "name": "stdout",
     "output_type": "stream",
     "text": [
      "---------k=0----------\n",
      "x_k: 0.1 f(x_k) 0.0342000000000000\n",
      "---------k=1----------\n",
      "x_k: 1.5 f(x_k) 205.375000000000\n",
      "---------k=1----------\n",
      "x_k: 0.0997668266608489 f(x_k) 0.0349200227286260\n",
      "---------k=2----------\n",
      "x_k: 0.0995287037661671 f(x_k) 0.0356629946822271\n",
      "---------k=3----------\n",
      "x_k: 0.110958711972524 f(x_k) 0.00877228307565304\n",
      "---------k=4----------\n",
      "x_k: 0.114687407181865 f(x_k) 0.00389693929419953\n",
      "---------k=5----------\n",
      "x_k: 0.117667812160207 f(x_k) 0.00138764519547540\n",
      "---------k=6----------\n",
      "x_k: 0.119315982715771 f(x_k) 0.000530994531709867\n",
      "---------k=7----------\n",
      "x_k: 0.120337600499248 f(x_k) 0.000190232319219920\n",
      "---------k=8----------\n",
      "x_k: 0.120907924065605 f(x_k) 6.33972801149782e-5\n",
      "---------k=9----------\n",
      "x_k: 0.121192994840587 f(x_k) 1.70385505523192e-5\n",
      "---------k=10----------\n",
      "x_k: 0.121297768911325 f(x_k) 2.85501351704791e-6\n",
      "---------k=11----------\n",
      "x_k: 0.121318858953072 f(x_k) 1.85569099543362e-7\n",
      "---------k=12----------\n",
      "x_k: 0.121320325048425 f(x_k) 2.31192104124664e-9\n",
      "---------k=13----------\n",
      "x_k: 0.121320343544272 f(x_k) 1.91968798692766e-12\n"
     ]
    },
    {
     "data": {
      "text/latex": [
       "$\\displaystyle 0.121320343544272$"
      ],
      "text/plain": [
       "0.121320343544272"
      ]
     },
     "execution_count": 8,
     "metadata": {},
     "output_type": "execute_result"
    }
   ],
   "source": [
    "String_section_method(y,0.1,1.5,1.0e-9)"
   ]
  },
  {
   "cell_type": "code",
   "execution_count": 9,
   "metadata": {},
   "outputs": [
    {
     "data": {
      "image/png": "[encoded data removed]",
      "text/plain": [
       "<Figure size 432x288 with 1 Axes>"
      ]
     },
     "metadata": {
      "needs_background": "light"
     },
     "output_type": "display_data"
    }
   ],
   "source": [
    "x_point=np.arange(-9,  2,  0.1) \n",
    "y_point=np.array([y.evalf(subs ={'x':k}) for k in x_point])\n",
    "y2=np.zeros(110)\n",
    "plt.title(\"f_x\")\n",
    "plt.plot(x_point,y_point)\n",
    "plt.plot(x_point,y2)\n",
    "plt.show()"
   ]
  },
  {
   "cell_type": "code",
   "execution_count": 49,
   "metadata": {},
   "outputs": [
    {
     "data": {
      "text/plain": [
       "[-4 + sqrt(17), -2 + 3*sqrt(2)/2, -sqrt(17) - 4, -3*sqrt(2)/2 - 2]"
      ]
     },
     "execution_count": 49,
     "metadata": {},
     "output_type": "execute_result"
    }
   ],
   "source": [
    "solve(Eq(y,0),x)"
   ]
  },
  {
   "cell_type": "code",
   "execution_count": 52,
   "metadata": {},
   "outputs": [
    {
     "name": "stdout",
     "output_type": "stream",
     "text": [
      "0.12310562561766059 0.12132034355964283 -8.123105625617661 -4.121320343559643\n"
     ]
    }
   ],
   "source": [
    "print(-4+math.sqrt(17),-2 + 3*math.sqrt(2)/2,-math.sqrt(17) - 4,-3*math.sqrt(2)/2 - 2,sep=\" \")"
   ]
  },
  {
   "cell_type": "code",
   "execution_count": null,
   "metadata": {},
   "outputs": [],
   "source": []
  }
 ],
 "metadata": {
  "kernelspec": {
   "display_name": "Python 3",
   "language": "python",
   "name": "python3"
  },
  "language_info": {
   "codemirror_mode": {
    "name": "ipython",
    "version": 3
   },
   "file_extension": ".py",
   "mimetype": "text/x-python",
   "name": "python",
   "nbconvert_exporter": "python",
   "pygments_lexer": "ipython3",
   "version": "3.7.6"
  }
 },
 "nbformat": 4,
 "nbformat_minor": 4
}
