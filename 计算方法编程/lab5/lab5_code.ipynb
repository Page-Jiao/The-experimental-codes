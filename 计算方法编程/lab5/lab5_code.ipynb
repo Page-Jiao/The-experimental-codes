{
 "cells": [
  {
   "cell_type": "code",
   "execution_count": 15,
   "metadata": {},
   "outputs": [],
   "source": [
    "import numpy as np\n",
    "import math"
   ]
  },
  {
   "cell_type": "code",
   "execution_count": 16,
   "metadata": {},
   "outputs": [],
   "source": [
    "def trapezoidal(a,b,func,n):\n",
    "    result = 0\n",
    "    h = (b-a)/n\n",
    "    for i in range(1,n):\n",
    "        xi = a + i * h\n",
    "        result += func(xi)\n",
    "    result += (func(a)+func(b))/2\n",
    "    return h * result"
   ]
  },
  {
   "cell_type": "code",
   "execution_count": 39,
   "metadata": {},
   "outputs": [],
   "source": [
    "def simpson(a,b,func,n):\n",
    "    result = 0\n",
    "    h = (b - a) / n\n",
    "    m = n // 2\n",
    "    part1 = 0\n",
    "    part2 = 0\n",
    "    for i in range(0, m):\n",
    "        xi = a + (2 * i + 1) * h\n",
    "        part1 += func(xi)\n",
    "    for i in range(1, m):\n",
    "        xi = a + (2 * i) * h\n",
    "        part2 += func(xi)\n",
    "    result = 4 * part1 + 2 * part2 + func(a) + func(b)\n",
    "    result = result * h / 3\n",
    "    return result"
   ]
  },
  {
   "cell_type": "code",
   "execution_count": 40,
   "metadata": {},
   "outputs": [],
   "source": [
    "def error_order(en,e,n):\n",
    "    return -math.log(en / e) / math.log(n)"
   ]
  },
  {
   "cell_type": "code",
   "execution_count": 41,
   "metadata": {},
   "outputs": [],
   "source": [
    "def fx(x):\n",
    "    return math.sin(x)"
   ]
  },
  {
   "cell_type": "code",
   "execution_count": 42,
   "metadata": {},
   "outputs": [
    {
     "name": "stdout",
     "output_type": "stream",
     "text": [
      "复化梯形积分   误差和误差阶为\n",
      "k= 0   e= 2.811933e+00 \n",
      "\n",
      "k= 1   e= 2.193994e+00 d= 0.3580029295119366\n",
      "k= 2   e= 4.099829e-01 d= 2.4199235509463812\n",
      "k= 3   e= 9.708816e-02 d= 2.078196532702631\n",
      "k= 4   e= 2.396462e-02 d= 2.0183895847975495\n",
      "k= 5   e= 5.972370e-03 d= 2.004530334299573\n",
      "k= 6   e= 1.491925e-03 d= 2.001128469942237\n",
      "k= 7   e= 3.729084e-04 d= 2.000281861575488\n",
      "k= 8   e= 9.322255e-05 d= 2.000070449416407\n",
      "k= 9   e= 2.330535e-05 d= 2.0000176113377615\n",
      "k= 10   e= 5.826320e-06 d= 2.0000044029367596\n"
     ]
    }
   ],
   "source": [
    "print(\"复化梯形积分   误差和误差阶为\")\n",
    "a = 0\n",
    "b = 8\n",
    "error2 = 0\n",
    "error1 = 0\n",
    "real_result = 1 - math.cos(8)\n",
    "for i in range(11):\n",
    "    N = pow(2,i)\n",
    "    estimate = trapezoidal(a,b,fx,N)\n",
    "    error1 = error2\n",
    "    error2 = abs(real_result - estimate)\n",
    "    print('{} {} {} {} {:e}'.format('k=',i,' ','e=',error2),end = \" \")\n",
    "    if(i == 0):\n",
    "        print(\"\\n\")\n",
    "    else:\n",
    "        print('{} {}'.format('d=',error_order(error2,error1,2)))"
   ]
  },
  {
   "cell_type": "code",
   "execution_count": 43,
   "metadata": {},
   "outputs": [
    {
     "name": "stdout",
     "output_type": "stream",
     "text": [
      "复化simpson积分   误差和误差阶为\n",
      "k= 0   e= 1.492789e+00 \n",
      "\n",
      "k= 1   e= 3.862636e+00 d= -1.371575713443267\n",
      "k= 2   e= 1.846873e-01 d= 4.386429199562679\n",
      "k= 3   e= 7.210093e-03 d= 4.678922791905777\n",
      "k= 4   e= 4.098995e-04 d= 4.136675618833803\n",
      "k= 5   e= 2.504513e-05 d= 4.0326686227116095\n",
      "k= 6   e= 1.556579e-06 d= 4.008079479325083\n",
      "k= 7   e= 9.715042e-08 d= 4.002014478061424\n",
      "k= 8   e= 6.069784e-09 d= 4.000503199961593\n",
      "k= 9   e= 3.793286e-10 d= 4.000125138789087\n",
      "k= 10   e= 2.370770e-11 d= 4.00002026812176\n"
     ]
    }
   ],
   "source": [
    "print(\"复化simpson积分   误差和误差阶为\")\n",
    "a = 0\n",
    "b = 8\n",
    "error2 = 0\n",
    "error1 = 0\n",
    "real_result = 1 - math.cos(8)\n",
    "for i in range(11):\n",
    "    N = pow(2,i)\n",
    "    estimate = simpson(a,b,fx,N)\n",
    "    error1 = error2\n",
    "    error2 = abs(real_result - estimate)\n",
    "    print('{} {} {} {} {:e}'.format('k=',i,' ','e=',error2),end = \" \")\n",
    "    if(i == 0):\n",
    "        print(\"\\n\")\n",
    "    else:\n",
    "        print('{} {}'.format('d=',error_order(error2,error1,2)))"
   ]
  },
  {
   "cell_type": "code",
   "execution_count": null,
   "metadata": {},
   "outputs": [],
   "source": []
  }
 ],
 "metadata": {
  "kernelspec": {
   "display_name": "Python 3",
   "language": "python",
   "name": "python3"
  },
  "language_info": {
   "codemirror_mode": {
    "name": "ipython",
    "version": 3
   },
   "file_extension": ".py",
   "mimetype": "text/x-python",
   "name": "python",
   "nbconvert_exporter": "python",
   "pygments_lexer": "ipython3",
   "version": "3.7.6"
  }
 },
 "nbformat": 4,
 "nbformat_minor": 4
}
