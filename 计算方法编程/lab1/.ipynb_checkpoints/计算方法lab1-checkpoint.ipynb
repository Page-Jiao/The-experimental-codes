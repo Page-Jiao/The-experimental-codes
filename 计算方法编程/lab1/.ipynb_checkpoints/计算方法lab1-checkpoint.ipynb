{
 "cells": [
  {
   "cell_type": "code",
   "execution_count": 1,
   "metadata": {},
   "outputs": [],
   "source": [
    "import numpy as np\n",
    "import math\n",
    "dt=np.dtype('float32')"
   ]
  },
  {
   "cell_type": "code",
   "execution_count": 2,
   "metadata": {},
   "outputs": [],
   "source": [
    "def f_x(x):\n",
    "    return math.sqrt(x**2+9)-3"
   ]
  },
  {
   "cell_type": "code",
   "execution_count": 3,
   "metadata": {},
   "outputs": [],
   "source": [
    "def g_x(x):\n",
    "    return x**2/(math.sqrt(x**2+9)+3)"
   ]
  },
  {
   "cell_type": "code",
   "execution_count": 4,
   "metadata": {},
   "outputs": [],
   "source": [
    "a=np.array([pow(8,-i) for i in range(1,11)],dtype=dt)"
   ]
  },
  {
   "cell_type": "code",
   "execution_count": 5,
   "metadata": {},
   "outputs": [
    {
     "name": "stdout",
     "output_type": "stream",
     "text": [
      "2.603037282825e-03  2.603037282825e-03\n",
      "4.068982889294e-05  4.068982889294e-05\n",
      "6.357827828651e-07  6.357827828651e-07\n",
      "9.934106870446e-09  9.934107758625e-09\n",
      "1.552202810728e-10  1.552204337285e-10\n",
      "2.425171174991e-12  2.425319277008e-12\n",
      "3.774758283726e-14  3.789561370325e-14\n",
      "4.440892098501e-16  5.921189641133e-16\n",
      "0.000000000000e+00  9.251858814270e-18\n",
      "0.000000000000e+00  1.445602939730e-19\n"
     ]
    }
   ],
   "source": [
    "b=np.array([f_x(x) for x in a],dtype=dt)\n",
    "c=np.array([g_x(x) for x in a],dtype=dt)\n",
    "for i in range(0,10):\n",
    "    print('%.12e' %b[i],end='  ')\n",
    "    print('%.12e' %c[i])"
   ]
  },
  {
   "cell_type": "code",
   "execution_count": null,
   "metadata": {},
   "outputs": [],
   "source": []
  }
 ],
 "metadata": {
  "kernelspec": {
   "display_name": "Python 3",
   "language": "python",
   "name": "python3"
  },
  "language_info": {
   "codemirror_mode": {
    "name": "ipython",
    "version": 3
   },
   "file_extension": ".py",
   "mimetype": "text/x-python",
   "name": "python",
   "nbconvert_exporter": "python",
   "pygments_lexer": "ipython3",
   "version": "3.7.6"
  }
 },
 "nbformat": 4,
 "nbformat_minor": 4
}
