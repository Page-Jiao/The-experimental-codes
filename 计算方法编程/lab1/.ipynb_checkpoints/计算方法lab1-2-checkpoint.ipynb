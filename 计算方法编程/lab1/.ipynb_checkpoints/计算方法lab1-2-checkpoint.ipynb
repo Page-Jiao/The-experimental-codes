{
 "cells": [
  {
   "cell_type": "code",
   "execution_count": 1,
   "metadata": {},
   "outputs": [],
   "source": [
    "import numpy as np\n",
    "a=np.array([4040.045551380452, -2759471.276702747, -31.64291531266504,  2755462.874010974,  0.0000557052996742893],dtype='float64')"
   ]
  },
  {
   "cell_type": "code",
   "execution_count": 2,
   "metadata": {},
   "outputs": [],
   "source": [
    "sum1=0\n",
    "sum2=0\n",
    "for i in range(0,5):\n",
    "    sum1+=a[i]\n",
    "    sum2+=a[4-i]"
   ]
  },
  {
   "cell_type": "code",
   "execution_count": 4,
   "metadata": {},
   "outputs": [
    {
     "name": "stdout",
     "output_type": "stream",
     "text": [
      "1.025188136829667e-10  -1.564330887049437e-10  0.000000000000000e+00\n"
     ]
    }
   ],
   "source": [
    "sum3=a[3]+a[0]\n",
    "sum3+=a[4]\n",
    "b=a[1]+a[2]\n",
    "sum3+=b\n",
    "print('%.15e' %sum1, end='  ')\n",
    "print('%.15e' %sum2, end='  ')\n",
    "print('%.15e' %sum3)"
   ]
  },
  {
   "cell_type": "code",
   "execution_count": null,
   "metadata": {},
   "outputs": [],
   "source": []
  }
 ],
 "metadata": {
  "kernelspec": {
   "display_name": "Python 3",
   "language": "python",
   "name": "python3"
  },
  "language_info": {
   "codemirror_mode": {
    "name": "ipython",
    "version": 3
   },
   "file_extension": ".py",
   "mimetype": "text/x-python",
   "name": "python",
   "nbconvert_exporter": "python",
   "pygments_lexer": "ipython3",
   "version": "3.7.6"
  }
 },
 "nbformat": 4,
 "nbformat_minor": 4
}
